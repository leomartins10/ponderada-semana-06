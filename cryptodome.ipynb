{
 "cells": [
  {
   "cell_type": "markdown",
   "metadata": {},
   "source": [
    "Instalação da biblioteca PyCrypotodome"
   ]
  },
  {
   "cell_type": "code",
   "execution_count": 11,
   "metadata": {},
   "outputs": [
    {
     "name": "stdout",
     "output_type": "stream",
     "text": [
      "Requirement already satisfied: pycryptodome in c:\\python312\\lib\\site-packages (3.21.0)\n"
     ]
    },
    {
     "name": "stderr",
     "output_type": "stream",
     "text": [
      "\n",
      "[notice] A new release of pip is available: 24.2 -> 25.0.1\n",
      "[notice] To update, run: python.exe -m pip install --upgrade pip\n"
     ]
    }
   ],
   "source": [
    "!pip install pycryptodome\n"
   ]
  },
  {
   "cell_type": "code",
   "execution_count": 20,
   "metadata": {},
   "outputs": [
    {
     "name": "stdout",
     "output_type": "stream",
     "text": [
      "Processamento de Criptografia e Descriptografia\n",
      "\n",
      "Texto Original: Ar condicionado\n",
      "Criptografado (hex): eda4f57f1b44278526c41f9bf279b457\n",
      "IV (hex): 29a7d64d14204671b772b693a2b177ef\n",
      "Tempo de Criptografia: 0.00001070 segundos\n",
      "Tempo de Descriptografia: 0.00002340 segundos\n",
      "Texto Decriptografado: Ar condicionado\n",
      "--------------------------------------------------\n"
     ]
    }
   ],
   "source": [
    "import time\n",
    "from Crypto.Cipher import AES\n",
    "from Crypto.Random import get_random_bytes\n",
    "from Crypto.Util.Padding import pad, unpad\n",
    "\n",
    "# Gera uma chave AES-256 (32 bytes) para todos os textos\n",
    "key = get_random_bytes(32)\n",
    "\n",
    "# Lista com os textos a serem criptografados\n",
    "texts = [\n",
    "    \"Ar condicionado\",\n",
    "    # Adicione outros textos se desejar\n",
    "]\n",
    "\n",
    "# Lista para armazenar os dados dos testes (opcional)\n",
    "encrypted_data = []\n",
    "\n",
    "print(\"Processamento de Criptografia e Descriptografia\\n\")\n",
    "for text in texts:\n",
    "    # Gera um IV único para cada texto\n",
    "    iv = get_random_bytes(16)\n",
    "    \n",
    "    # --- Criptografia ---\n",
    "    cipher = AES.new(key, AES.MODE_CBC, iv)\n",
    "    padded_text = pad(text.encode('utf-8'), AES.block_size)\n",
    "    start_enc = time.perf_counter()  # Início da criptografia\n",
    "    ciphertext = cipher.encrypt(padded_text)\n",
    "    end_enc = time.perf_counter()    # Fim da criptografia\n",
    "    enc_time = end_enc - start_enc   # Tempo de criptografia\n",
    "    \n",
    "    # --- Descriptografia ---\n",
    "    decipher = AES.new(key, AES.MODE_CBC, iv)\n",
    "    start_dec = time.perf_counter()  # Início da descriptografia\n",
    "    decrypted_padded = decipher.decrypt(ciphertext)\n",
    "    decrypted_text = unpad(decrypted_padded, AES.block_size).decode('utf-8')\n",
    "    end_dec = time.perf_counter()    # Fim da descriptografia\n",
    "    dec_time = end_dec - start_dec   # Tempo de descriptografia\n",
    "    \n",
    "    # Armazena os dados (opcional)\n",
    "    encrypted_data.append({\n",
    "        \"original\": text,\n",
    "        \"ciphertext\": ciphertext,\n",
    "        \"iv\": iv,\n",
    "        \"encryption_time\": enc_time,\n",
    "        \"decryption_time\": dec_time\n",
    "    })\n",
    "    \n",
    "    # Exibe os resultados de forma consolidada\n",
    "    print(f\"Texto Original: {text}\")\n",
    "    print(\"Criptografado (hex):\", ciphertext.hex())\n",
    "    print(\"IV (hex):\", iv.hex())\n",
    "    print(f\"Tempo de Criptografia: {enc_time:.8f} segundos\")\n",
    "    print(f\"Tempo de Descriptografia: {dec_time:.8f} segundos\")\n",
    "    print(\"Texto Decriptografado:\", decrypted_text)\n",
    "    print(\"-\" * 50)\n"
   ]
  },
  {
   "cell_type": "code",
   "execution_count": 21,
   "metadata": {},
   "outputs": [
    {
     "name": "stdout",
     "output_type": "stream",
     "text": [
      "Tabela de Resultados:\n",
      "   Teste                                   Texto de Entrada  Tamanho  \\\n",
      "0      1                            O Pedro fez a ponderada       23   \n",
      "1      2          A isadora não prestou atenção como sempre       41   \n",
      "2      3                                             Batata        6   \n",
      "3      4                                       Hoje choverá       12   \n",
      "4      5  O computador do meu amigo Leonardo acabou a ba...       73   \n",
      "5      6  Meus cinco amigos estão estudando na minha frente       49   \n",
      "6      7  O último jogo de tênis do João Fonseca teve um...      137   \n",
      "7      8                Professor do Inteli: Victor Hayashi       19   \n",
      "8      9                                                Sol        3   \n",
      "9     10                                    Ar condicionado       15   \n",
      "\n",
      "   Tempo de Criptografia (s) Tempo de Descriptografia (s)  \\\n",
      "0                   0.000012                         hash   \n",
      "1                   0.000022                         hash   \n",
      "2                   0.000016                         hash   \n",
      "3                   0.000017                         hash   \n",
      "4                   0.000028                         hash   \n",
      "5                   0.000074                      0.00002   \n",
      "6                   0.000060                     0.000011   \n",
      "7                   0.000060                     0.000019   \n",
      "8                   0.000045                     0.000032   \n",
      "9                   0.000011                     0.000023   \n",
      "\n",
      "  Resultado Criptografado  \n",
      "0           31235...67562  \n",
      "1           fc2df...f6528  \n",
      "2           82f8d...14404  \n",
      "3           0b7d1...c1ee0  \n",
      "4           d4e55...df337  \n",
      "5      3850d...da252(128)  \n",
      "6      09b6e...c5656(288)  \n",
      "7       eca0f...19cd4(96)  \n",
      "8       7b719...4e16c(32)  \n",
      "9       eda4f...9b457(32)  \n"
     ]
    }
   ],
   "source": [
    "import pandas as pd\n",
    "\n",
    "# Dados dos 10 testes (substitua os valores conforme os seus resultados)\n",
    "dados = {\n",
    "    \"Teste\": [1, 2, 3, 4, 5, 6, 7, 8, 9, 10],\n",
    "    \"Texto de Entrada\": [\n",
    "        \"O Pedro fez a ponderada\", \"A isadora não prestou atenção como sempre\", \"Batata\", \"Hoje choverá\", \"O computador do meu amigo Leonardo acabou a bateria durante a última aula\",\n",
    "        \"Meus cinco amigos estão estudando na minha frente\", \"O último jogo de tênis do João Fonseca teve um resultado de 4x6 no primeiro set e 0x6 no segundo set, trazendo a vitória para o J. Draper\", \"Professor do Inteli: Victor Hayashi\", \"Sol\", \"Ar condicionado\"\n",
    "    ],\n",
    "    \"Tamanho\": [23, 41, 6, 12, 73, 49, 137, 19, 3, 15],\n",
    "    \"Tempo de Criptografia (s)\": [\n",
    "        0.0000123, 0.0000217, 0.0000163, 0.0000172, 0.0000284,\n",
    "        0.0000745, 0.0000596, 0.0000598, 0.0000446, 0.0000107\n",
    "    ],\n",
    "    \"Tempo de Descriptografia (s)\": [\n",
    "        \"hash\", \"hash\", \"hash\", \"hash\", \"hash\",\n",
    "        0.0000199, 0.0000113, 0.0000189, 0.0000319, 0.0000234\n",
    "    ],\n",
    "    \"Resultado Criptografado\": [\n",
    "        \"31235...67562\", \"fc2df...f6528\", \"82f8d...14404\", \"0b7d1...c1ee0\", \"d4e55...df337\",\n",
    "        \"3850d...da252(128)\", \"09b6e...c5656(288)\", \"eca0f...19cd4(96)\", \"7b719...4e16c(32)\", \"eda4f...9b457(32)\"\n",
    "    ]\n",
    "}\n",
    "\n",
    "# Cria o DataFrame com os dados definidos\n",
    "tabela = pd.DataFrame(dados)\n",
    "\n",
    "# Exibe a tabela\n",
    "print(\"Tabela de Resultados:\")\n",
    "print(tabela)\n"
   ]
  }
 ],
 "metadata": {
  "kernelspec": {
   "display_name": "Python 3",
   "language": "python",
   "name": "python3"
  },
  "language_info": {
   "codemirror_mode": {
    "name": "ipython",
    "version": 3
   },
   "file_extension": ".py",
   "mimetype": "text/x-python",
   "name": "python",
   "nbconvert_exporter": "python",
   "pygments_lexer": "ipython3",
   "version": "3.12.4"
  }
 },
 "nbformat": 4,
 "nbformat_minor": 2
}
