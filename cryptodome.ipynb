{
 "cells": [
  {
   "cell_type": "markdown",
   "metadata": {},
   "source": [
    "Instalação da biblioteca PyCrypotodome"
   ]
  },
  {
   "cell_type": "code",
   "execution_count": null,
   "metadata": {},
   "outputs": [],
   "source": [
    "!pip install pycryptodome\n"
   ]
  },
  {
   "cell_type": "code",
   "execution_count": null,
   "metadata": {},
   "outputs": [],
   "source": [
    "#Importações\n",
    "from Crypto.Cipher import AES\n",
    "from Crypto.Random import get_random_bytes\n",
    "from Crypto.Util.Padding import pad\n",
    "\n",
    "# Gera uma chave de 256 bits que será utilizada para todos os textos\n",
    "key = get_random_bytes(32)  # Chave de 32 bytes para AES-256\n",
    "\n",
    "# Input de texto para criptografar\n",
    "texts = [\n",
    "    \"Primeiro texto para criptografia\",\n",
    "]\n",
    "\n",
    "# Lista para armazenar os dados criptografados (cada item conterá o IV e o ciphertext)\n",
    "encrypted_data = []\n",
    "\n",
    "#Título do teste\n",
    "print(\"Processamento de Criptografia\\n\")\n",
    "for text in texts:\n",
    "    # Gera um novo IV para cada texto\n",
    "    iv = get_random_bytes(16)  # IV de 16 bytes para o modo CBC\n",
    "    cipher = AES.new(key, AES.MODE_CBC, iv)\n",
    "    \n",
    "    # Aplica o padding e criptografa o texto\n",
    "    padded_text = pad(text.encode('utf-8'), AES.block_size)\n",
    "    ciphertext = cipher.encrypt(padded_text)\n",
    "    \n",
    "    # Armazena os resultados em um dicionário\n",
    "    encrypted_data.append({\"original\": text, \"ciphertext\": ciphertext, \"iv\": iv})\n",
    "    \n",
    "    print(f\"Texto Original: {text}\")\n",
    "    print(\"Criptografado (hex):\", ciphertext.hex())\n",
    "    print(\"IV (hex):\", iv.hex())\n"
   ]
  },
  {
   "cell_type": "code",
   "execution_count": null,
   "metadata": {},
   "outputs": [],
   "source": [
    "#Importações\n",
    "from Crypto.Cipher import AES\n",
    "from Crypto.Util.Padding import unpad\n",
    "\n",
    "print(\"Processamento de Descriptografia\\n\")\n",
    "# Utiliza a mesma chave e itera sobre os dados criptografados\n",
    "for item in encrypted_data:\n",
    "    iv = item[\"iv\"]\n",
    "    ciphertext = item[\"ciphertext\"]\n",
    "    \n",
    "    # Configura o objeto de descriptografia com a mesma chave e IV usados na criptografia\n",
    "    decipher = AES.new(key, AES.MODE_CBC, iv)\n",
    "    decrypted_padded = decipher.decrypt(ciphertext)\n",
    "    decrypted_text = unpad(decrypted_padded, AES.block_size).decode('utf-8')\n",
    "    \n",
    "    print(f\"Texto Criptografado (hex): {ciphertext.hex()}\")\n",
    "    print(\"Texto Decriptografado:\", decrypted_text)\n"
   ]
  }
 ],
 "metadata": {
  "kernelspec": {
   "display_name": "Python 3",
   "language": "python",
   "name": "python3"
  },
  "language_info": {
   "codemirror_mode": {
    "name": "ipython",
    "version": 3
   },
   "file_extension": ".py",
   "mimetype": "text/x-python",
   "name": "python",
   "nbconvert_exporter": "python",
   "pygments_lexer": "ipython3",
   "version": "3.12.4"
  }
 },
 "nbformat": 4,
 "nbformat_minor": 2
}
