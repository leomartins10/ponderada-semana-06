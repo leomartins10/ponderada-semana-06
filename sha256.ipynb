{
 "cells": [
  {
   "cell_type": "markdown",
   "metadata": {},
   "source": [
    "Código responsável pela criptografia em hash"
   ]
  },
  {
   "cell_type": "code",
   "execution_count": null,
   "metadata": {},
   "outputs": [],
   "source": [
    "#importação de bibliotecas\n",
    "import hashlib\n",
    "import time\n",
    "\n",
    "def sha256_hash(data):\n",
    "    # Conversão para bytes caso a entrada for uma string\n",
    "    if isinstance(data, str):\n",
    "        data = data.encode('utf-8')\n",
    "    # Calcula o hash e retorna o digest em hexadecimal\n",
    "    return hashlib.sha256(data).hexdigest()\n",
    "\n",
    "# Definindo o texto do teste:\n",
    "testes_sha256 = [\n",
    "    \"Ar condicionado\",  # Você pode adicionar mais entradas conforme desejar\n",
    "]\n",
    "\n",
    "# Executando e exibindo os resultados com medição de tempo:\n",
    "for i, teste in enumerate(testes_sha256, 1):\n",
    "    start = time.perf_counter()  # Inicia a medição do tempo\n",
    "    resultado = sha256_hash(teste)\n",
    "    end = time.perf_counter()    # Finaliza a medição do tempo\n",
    "    \n",
    "    exec_time = end - start      # Calcula o tempo de execução\n",
    "    # Exibe a entrada, o hash gerado e o tempo com 8 casas decimais\n",
    "    print(f\"Entrada: {teste!r} -> Hash: {resultado} | Tempo: {exec_time:.8f} segundos\")\n"
   ]
  },
  {
   "cell_type": "markdown",
   "metadata": {},
   "source": [
    "Rascunho de tabela"
   ]
  },
  {
   "cell_type": "code",
   "execution_count": null,
   "metadata": {},
   "outputs": [],
   "source": [
    "import pandas as pd\n",
    "\n",
    "# Dados dos 10 testes (substitua os valores conforme os seus resultados)\n",
    "dados = {\n",
    "    \"Teste\": [1, 2, 3, 4, 5, 6, 7, 8, 9, 10],\n",
    "    \"Texto de Entrada\": [\n",
    "        \"O Pedro fez a ponderada\", \"A isadora não prestou atenção como sempre\", \"Batata\", \"Hoje choverá\", \"O computador do meu amigo Leonardo acabou a bateria durante a última aula\",\n",
    "        \"Meus cinco amigos estão estudando na minha frente\", \"O último jogo de tênis do João Fonseca teve um resultado de 4x6 no primeiro set e 0x6 no segundo set, trazendo a vitória para o J. Draper\", \"Professor do Inteli: Victor Hayashi\", \"Sol\", \"Ar condicionado\"\n",
    "    ],\n",
    "    \"Tamanho\": [23, 41, 6, 12, 73, 49, 137, 19, 3, 15],\n",
    "    \"Tempo de Criptografia (s)\": [\n",
    "        0.0000123, 0.0000217, 0.0000163, 0.0000172, 0.0000284,\n",
    "        0., 0., 0., 0., 0.\n",
    "    ],\n",
    "    \"Tempo de Descriptografia (s)\": [\n",
    "        \"hash\", \"hash\", \"hash\", \"hash\", \"hash\",\n",
    "        0.00000666, 0.00000777, 0.00000888, 0.00000999, 0.00001010\n",
    "    ],\n",
    "    \"Resultado Criptografado\": [\n",
    "        \"31235...67562\", \"fc2df...f6528\", \"82f8d...14404\", \"0b7d1...c1ee0\", \"d4e55...df337\",\n",
    "        \"...\", \"...\", \"...\", \"...\", \"...\"\n",
    "    ]\n",
    "}\n",
    "\n",
    "# Cria o DataFrame com os dados definidos\n",
    "tabela = pd.DataFrame(dados)\n",
    "\n",
    "# Exibe a tabela\n",
    "print(\"Tabela de Resultados:\")\n",
    "print(tabela)\n"
   ]
  }
 ],
 "metadata": {
  "kernelspec": {
   "display_name": "Python 3",
   "language": "python",
   "name": "python3"
  },
  "language_info": {
   "codemirror_mode": {
    "name": "ipython",
    "version": 3
   },
   "file_extension": ".py",
   "mimetype": "text/x-python",
   "name": "python",
   "nbconvert_exporter": "python",
   "pygments_lexer": "ipython3",
   "version": "3.12.4"
  }
 },
 "nbformat": 4,
 "nbformat_minor": 2
}
