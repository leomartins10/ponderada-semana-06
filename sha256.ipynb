{
 "cells": [
  {
   "cell_type": "markdown",
   "metadata": {},
   "source": [
    "Código responsável pela criptografia em hash"
   ]
  },
  {
   "cell_type": "code",
   "execution_count": null,
   "metadata": {},
   "outputs": [],
   "source": [
    "#importação de biblioteca\n",
    "import hashlib\n",
    "\n",
    "def sha256_hash(data):\n",
    "    # Conversão para bytes caso a entrada for uma string\n",
    "    if isinstance(data, str):\n",
    "        data = data.encode('utf-8')\n",
    "    # Calcula o hash e retorna o digest em hexadecimal\n",
    "    return hashlib.sha256(data).hexdigest()\n",
    "\n",
    "# Definindo o texto do teste:\n",
    "testes_sha256 = [\n",
    "    \"\",\n",
    "]\n",
    "\n",
    "# Executando e exibindo os resultados:\n",
    "for i, teste in enumerate(testes_sha256, 1):\n",
    "    resultado = sha256_hash(teste)\n",
    "    print(f\"Entrada: {teste!r} -> Hash: {resultado}\")\n"
   ]
  }
 ],
 "metadata": {
  "kernelspec": {
   "display_name": "Python 3",
   "language": "python",
   "name": "python3"
  },
  "language_info": {
   "codemirror_mode": {
    "name": "ipython",
    "version": 3
   },
   "file_extension": ".py",
   "mimetype": "text/x-python",
   "name": "python",
   "nbconvert_exporter": "python",
   "pygments_lexer": "ipython3",
   "version": "3.12.4"
  }
 },
 "nbformat": 4,
 "nbformat_minor": 2
}
